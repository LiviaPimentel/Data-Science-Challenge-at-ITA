{
 "cells": [
  {
   "cell_type": "code",
   "execution_count": 110,
   "id": "automotive-buffer",
   "metadata": {},
   "outputs": [],
   "source": [
    "import pandas as pd"
   ]
  },
  {
   "cell_type": "code",
   "execution_count": 111,
   "id": "sealed-husband",
   "metadata": {},
   "outputs": [],
   "source": [
    "df_train = pd.read_csv('warmupv4publictrain.csv')"
   ]
  },
  {
   "cell_type": "code",
   "execution_count": 112,
   "id": "stretch-rugby",
   "metadata": {},
   "outputs": [
    {
     "data": {
      "text/plain": [
       "704"
      ]
     },
     "execution_count": 112,
     "metadata": {},
     "output_type": "execute_result"
    }
   ],
   "source": [
    "len(df_train)"
   ]
  },
  {
   "cell_type": "code",
   "execution_count": 113,
   "id": "champion-giving",
   "metadata": {},
   "outputs": [
    {
     "data": {
      "text/html": [
       "<div>\n",
       "<style scoped>\n",
       "    .dataframe tbody tr th:only-of-type {\n",
       "        vertical-align: middle;\n",
       "    }\n",
       "\n",
       "    .dataframe tbody tr th {\n",
       "        vertical-align: top;\n",
       "    }\n",
       "\n",
       "    .dataframe thead th {\n",
       "        text-align: right;\n",
       "    }\n",
       "</style>\n",
       "<table border=\"1\" class=\"dataframe\">\n",
       "  <thead>\n",
       "    <tr style=\"text-align: right;\">\n",
       "      <th></th>\n",
       "      <th>p</th>\n",
       "      <th>f</th>\n",
       "      <th>a1</th>\n",
       "      <th>a2</th>\n",
       "      <th>a3</th>\n",
       "      <th>a4</th>\n",
       "      <th>b1</th>\n",
       "      <th>b2</th>\n",
       "      <th>b3</th>\n",
       "      <th>b4</th>\n",
       "      <th>...</th>\n",
       "      <th>l1</th>\n",
       "      <th>l2</th>\n",
       "      <th>l3</th>\n",
       "      <th>l4</th>\n",
       "      <th>e1</th>\n",
       "      <th>e2</th>\n",
       "      <th>size</th>\n",
       "      <th>altitute</th>\n",
       "      <th>agents</th>\n",
       "      <th>sd_trans</th>\n",
       "    </tr>\n",
       "  </thead>\n",
       "  <tbody>\n",
       "    <tr>\n",
       "      <th>0</th>\n",
       "      <td>0.6</td>\n",
       "      <td>0.4</td>\n",
       "      <td>2.4</td>\n",
       "      <td>0.19</td>\n",
       "      <td>3.3</td>\n",
       "      <td>0.19</td>\n",
       "      <td>2.1</td>\n",
       "      <td>0.23</td>\n",
       "      <td>2.0</td>\n",
       "      <td>0.26</td>\n",
       "      <td>...</td>\n",
       "      <td>0.194</td>\n",
       "      <td>1.0</td>\n",
       "      <td>0.065</td>\n",
       "      <td>1.2</td>\n",
       "      <td>2.2</td>\n",
       "      <td>0.2</td>\n",
       "      <td>1856.0</td>\n",
       "      <td>average</td>\n",
       "      <td>950+</td>\n",
       "      <td>43.0</td>\n",
       "    </tr>\n",
       "    <tr>\n",
       "      <th>1</th>\n",
       "      <td>0.7</td>\n",
       "      <td>0.4</td>\n",
       "      <td>2.9</td>\n",
       "      <td>0.12</td>\n",
       "      <td>1.1</td>\n",
       "      <td>0.28</td>\n",
       "      <td>1.5</td>\n",
       "      <td>0.14</td>\n",
       "      <td>4.6</td>\n",
       "      <td>0.18</td>\n",
       "      <td>...</td>\n",
       "      <td>0.108</td>\n",
       "      <td>1.2</td>\n",
       "      <td>0.048</td>\n",
       "      <td>0.9</td>\n",
       "      <td>0.2</td>\n",
       "      <td>1.9</td>\n",
       "      <td>880.0</td>\n",
       "      <td>average</td>\n",
       "      <td>950+</td>\n",
       "      <td>43.1</td>\n",
       "    </tr>\n",
       "    <tr>\n",
       "      <th>2</th>\n",
       "      <td>0.7</td>\n",
       "      <td>0.5</td>\n",
       "      <td>1.9</td>\n",
       "      <td>0.30</td>\n",
       "      <td>1.8</td>\n",
       "      <td>0.15</td>\n",
       "      <td>2.7</td>\n",
       "      <td>0.11</td>\n",
       "      <td>1.2</td>\n",
       "      <td>0.12</td>\n",
       "      <td>...</td>\n",
       "      <td>0.049</td>\n",
       "      <td>1.1</td>\n",
       "      <td>0.007</td>\n",
       "      <td>1.7</td>\n",
       "      <td>2.7</td>\n",
       "      <td>1.0</td>\n",
       "      <td>1920.0</td>\n",
       "      <td>high</td>\n",
       "      <td>50+</td>\n",
       "      <td>20.4</td>\n",
       "    </tr>\n",
       "    <tr>\n",
       "      <th>3</th>\n",
       "      <td>0.8</td>\n",
       "      <td>0.3</td>\n",
       "      <td>1.3</td>\n",
       "      <td>0.29</td>\n",
       "      <td>3.6</td>\n",
       "      <td>0.15</td>\n",
       "      <td>3.6</td>\n",
       "      <td>0.22</td>\n",
       "      <td>4.6</td>\n",
       "      <td>0.29</td>\n",
       "      <td>...</td>\n",
       "      <td>0.113</td>\n",
       "      <td>0.8</td>\n",
       "      <td>0.044</td>\n",
       "      <td>1.6</td>\n",
       "      <td>2.9</td>\n",
       "      <td>2.6</td>\n",
       "      <td>1560.0</td>\n",
       "      <td>average</td>\n",
       "      <td>50+</td>\n",
       "      <td>6.1</td>\n",
       "    </tr>\n",
       "    <tr>\n",
       "      <th>4</th>\n",
       "      <td>0.7</td>\n",
       "      <td>0.4</td>\n",
       "      <td>3.6</td>\n",
       "      <td>0.17</td>\n",
       "      <td>2.4</td>\n",
       "      <td>0.11</td>\n",
       "      <td>1.3</td>\n",
       "      <td>0.26</td>\n",
       "      <td>4.8</td>\n",
       "      <td>0.19</td>\n",
       "      <td>...</td>\n",
       "      <td>0.078</td>\n",
       "      <td>1.5</td>\n",
       "      <td>0.097</td>\n",
       "      <td>1.1</td>\n",
       "      <td>0.5</td>\n",
       "      <td>1.3</td>\n",
       "      <td>1188.0</td>\n",
       "      <td>average</td>\n",
       "      <td>50+</td>\n",
       "      <td>28.6</td>\n",
       "    </tr>\n",
       "  </tbody>\n",
       "</table>\n",
       "<p>5 rows × 26 columns</p>\n",
       "</div>"
      ],
      "text/plain": [
       "     p    f   a1    a2   a3    a4   b1    b2   b3    b4  ...     l1   l2  \\\n",
       "0  0.6  0.4  2.4  0.19  3.3  0.19  2.1  0.23  2.0  0.26  ...  0.194  1.0   \n",
       "1  0.7  0.4  2.9  0.12  1.1  0.28  1.5  0.14  4.6  0.18  ...  0.108  1.2   \n",
       "2  0.7  0.5  1.9  0.30  1.8  0.15  2.7  0.11  1.2  0.12  ...  0.049  1.1   \n",
       "3  0.8  0.3  1.3  0.29  3.6  0.15  3.6  0.22  4.6  0.29  ...  0.113  0.8   \n",
       "4  0.7  0.4  3.6  0.17  2.4  0.11  1.3  0.26  4.8  0.19  ...  0.078  1.5   \n",
       "\n",
       "      l3   l4   e1   e2    size  altitute  agents  sd_trans  \n",
       "0  0.065  1.2  2.2  0.2  1856.0   average    950+      43.0  \n",
       "1  0.048  0.9  0.2  1.9   880.0   average    950+      43.1  \n",
       "2  0.007  1.7  2.7  1.0  1920.0      high     50+      20.4  \n",
       "3  0.044  1.6  2.9  2.6  1560.0   average     50+       6.1  \n",
       "4  0.097  1.1  0.5  1.3  1188.0   average     50+      28.6  \n",
       "\n",
       "[5 rows x 26 columns]"
      ]
     },
     "execution_count": 113,
     "metadata": {},
     "output_type": "execute_result"
    }
   ],
   "source": [
    "df_train.head()"
   ]
  },
  {
   "cell_type": "code",
   "execution_count": 114,
   "id": "continent-administrator",
   "metadata": {},
   "outputs": [
    {
     "name": "stdout",
     "output_type": "stream",
     "text": [
      "<class 'pandas.core.frame.DataFrame'>\n",
      "RangeIndex: 704 entries, 0 to 703\n",
      "Data columns (total 26 columns):\n",
      " #   Column    Non-Null Count  Dtype  \n",
      "---  ------    --------------  -----  \n",
      " 0   p         686 non-null    float64\n",
      " 1   f         689 non-null    float64\n",
      " 2   a1        689 non-null    float64\n",
      " 3   a2        687 non-null    float64\n",
      " 4   a3        694 non-null    float64\n",
      " 5   a4        682 non-null    float64\n",
      " 6   b1        681 non-null    float64\n",
      " 7   b2        691 non-null    float64\n",
      " 8   b3        696 non-null    float64\n",
      " 9   b4        693 non-null    float64\n",
      " 10  c1        691 non-null    float64\n",
      " 11  c2        685 non-null    float64\n",
      " 12  c3        687 non-null    float64\n",
      " 13  c4        693 non-null    float64\n",
      " 14  g1        690 non-null    float64\n",
      " 15  g2        694 non-null    float64\n",
      " 16  l1        686 non-null    float64\n",
      " 17  l2        685 non-null    float64\n",
      " 18  l3        697 non-null    float64\n",
      " 19  l4        686 non-null    float64\n",
      " 20  e1        688 non-null    float64\n",
      " 21  e2        689 non-null    float64\n",
      " 22  size      697 non-null    float64\n",
      " 23  altitute  689 non-null    object \n",
      " 24  agents    693 non-null    object \n",
      " 25  sd_trans  704 non-null    float64\n",
      "dtypes: float64(24), object(2)\n",
      "memory usage: 143.1+ KB\n"
     ]
    }
   ],
   "source": [
    "df_train.info()"
   ]
  },
  {
   "cell_type": "code",
   "execution_count": 115,
   "id": "proper-billion",
   "metadata": {},
   "outputs": [
    {
     "data": {
      "text/plain": [
       "average    270\n",
       "low        215\n",
       "high       204\n",
       "Name: altitute, dtype: int64"
      ]
     },
     "execution_count": 115,
     "metadata": {},
     "output_type": "execute_result"
    }
   ],
   "source": [
    "df_train[\"altitute\"].value_counts()"
   ]
  },
  {
   "cell_type": "code",
   "execution_count": 116,
   "id": "stopped-destruction",
   "metadata": {},
   "outputs": [
    {
     "data": {
      "text/html": [
       "<div>\n",
       "<style scoped>\n",
       "    .dataframe tbody tr th:only-of-type {\n",
       "        vertical-align: middle;\n",
       "    }\n",
       "\n",
       "    .dataframe tbody tr th {\n",
       "        vertical-align: top;\n",
       "    }\n",
       "\n",
       "    .dataframe thead th {\n",
       "        text-align: right;\n",
       "    }\n",
       "</style>\n",
       "<table border=\"1\" class=\"dataframe\">\n",
       "  <thead>\n",
       "    <tr style=\"text-align: right;\">\n",
       "      <th></th>\n",
       "      <th>p</th>\n",
       "      <th>f</th>\n",
       "      <th>a1</th>\n",
       "      <th>a2</th>\n",
       "      <th>a3</th>\n",
       "      <th>a4</th>\n",
       "      <th>b1</th>\n",
       "      <th>b2</th>\n",
       "      <th>b3</th>\n",
       "      <th>b4</th>\n",
       "      <th>...</th>\n",
       "      <th>g1</th>\n",
       "      <th>g2</th>\n",
       "      <th>l1</th>\n",
       "      <th>l2</th>\n",
       "      <th>l3</th>\n",
       "      <th>l4</th>\n",
       "      <th>e1</th>\n",
       "      <th>e2</th>\n",
       "      <th>size</th>\n",
       "      <th>sd_trans</th>\n",
       "    </tr>\n",
       "  </thead>\n",
       "  <tbody>\n",
       "    <tr>\n",
       "      <th>count</th>\n",
       "      <td>686.000000</td>\n",
       "      <td>689.000000</td>\n",
       "      <td>689.000000</td>\n",
       "      <td>687.000000</td>\n",
       "      <td>694.000000</td>\n",
       "      <td>682.000000</td>\n",
       "      <td>681.000000</td>\n",
       "      <td>691.000000</td>\n",
       "      <td>696.000000</td>\n",
       "      <td>693.000000</td>\n",
       "      <td>...</td>\n",
       "      <td>690.000000</td>\n",
       "      <td>694.000000</td>\n",
       "      <td>686.000000</td>\n",
       "      <td>685.000000</td>\n",
       "      <td>697.000000</td>\n",
       "      <td>686.000000</td>\n",
       "      <td>688.000000</td>\n",
       "      <td>689.000000</td>\n",
       "      <td>697.000000</td>\n",
       "      <td>704.000000</td>\n",
       "    </tr>\n",
       "    <tr>\n",
       "      <th>mean</th>\n",
       "      <td>0.702770</td>\n",
       "      <td>0.347170</td>\n",
       "      <td>3.022351</td>\n",
       "      <td>0.201820</td>\n",
       "      <td>2.934150</td>\n",
       "      <td>0.201716</td>\n",
       "      <td>2.928634</td>\n",
       "      <td>0.201331</td>\n",
       "      <td>3.043822</td>\n",
       "      <td>0.201255</td>\n",
       "      <td>...</td>\n",
       "      <td>0.100848</td>\n",
       "      <td>1.272334</td>\n",
       "      <td>0.103284</td>\n",
       "      <td>1.229051</td>\n",
       "      <td>0.051636</td>\n",
       "      <td>1.255831</td>\n",
       "      <td>1.572529</td>\n",
       "      <td>1.577504</td>\n",
       "      <td>2150.011478</td>\n",
       "      <td>30.809091</td>\n",
       "    </tr>\n",
       "    <tr>\n",
       "      <th>std</th>\n",
       "      <td>0.121576</td>\n",
       "      <td>0.095212</td>\n",
       "      <td>1.126863</td>\n",
       "      <td>0.055531</td>\n",
       "      <td>1.182326</td>\n",
       "      <td>0.056834</td>\n",
       "      <td>1.129792</td>\n",
       "      <td>0.057870</td>\n",
       "      <td>1.161761</td>\n",
       "      <td>0.058193</td>\n",
       "      <td>...</td>\n",
       "      <td>0.058267</td>\n",
       "      <td>0.435722</td>\n",
       "      <td>0.058395</td>\n",
       "      <td>0.432272</td>\n",
       "      <td>0.028267</td>\n",
       "      <td>0.434719</td>\n",
       "      <td>0.859090</td>\n",
       "      <td>0.842806</td>\n",
       "      <td>1559.577619</td>\n",
       "      <td>9.620975</td>\n",
       "    </tr>\n",
       "    <tr>\n",
       "      <th>min</th>\n",
       "      <td>0.500000</td>\n",
       "      <td>0.200000</td>\n",
       "      <td>1.000000</td>\n",
       "      <td>0.100000</td>\n",
       "      <td>1.000000</td>\n",
       "      <td>0.100000</td>\n",
       "      <td>1.000000</td>\n",
       "      <td>0.100000</td>\n",
       "      <td>1.000000</td>\n",
       "      <td>0.100000</td>\n",
       "      <td>...</td>\n",
       "      <td>0.001000</td>\n",
       "      <td>0.500000</td>\n",
       "      <td>0.000000</td>\n",
       "      <td>0.500000</td>\n",
       "      <td>0.000000</td>\n",
       "      <td>0.500000</td>\n",
       "      <td>0.100000</td>\n",
       "      <td>0.100000</td>\n",
       "      <td>110.000000</td>\n",
       "      <td>2.200000</td>\n",
       "    </tr>\n",
       "    <tr>\n",
       "      <th>25%</th>\n",
       "      <td>0.600000</td>\n",
       "      <td>0.300000</td>\n",
       "      <td>2.100000</td>\n",
       "      <td>0.160000</td>\n",
       "      <td>1.900000</td>\n",
       "      <td>0.150000</td>\n",
       "      <td>2.000000</td>\n",
       "      <td>0.150000</td>\n",
       "      <td>2.000000</td>\n",
       "      <td>0.150000</td>\n",
       "      <td>...</td>\n",
       "      <td>0.051000</td>\n",
       "      <td>0.900000</td>\n",
       "      <td>0.049250</td>\n",
       "      <td>0.800000</td>\n",
       "      <td>0.029000</td>\n",
       "      <td>0.900000</td>\n",
       "      <td>0.800000</td>\n",
       "      <td>0.900000</td>\n",
       "      <td>1014.000000</td>\n",
       "      <td>25.900000</td>\n",
       "    </tr>\n",
       "    <tr>\n",
       "      <th>50%</th>\n",
       "      <td>0.700000</td>\n",
       "      <td>0.300000</td>\n",
       "      <td>3.000000</td>\n",
       "      <td>0.210000</td>\n",
       "      <td>2.900000</td>\n",
       "      <td>0.200000</td>\n",
       "      <td>2.900000</td>\n",
       "      <td>0.200000</td>\n",
       "      <td>3.100000</td>\n",
       "      <td>0.200000</td>\n",
       "      <td>...</td>\n",
       "      <td>0.102500</td>\n",
       "      <td>1.300000</td>\n",
       "      <td>0.104500</td>\n",
       "      <td>1.200000</td>\n",
       "      <td>0.051000</td>\n",
       "      <td>1.300000</td>\n",
       "      <td>1.500000</td>\n",
       "      <td>1.600000</td>\n",
       "      <td>1734.000000</td>\n",
       "      <td>32.650000</td>\n",
       "    </tr>\n",
       "    <tr>\n",
       "      <th>75%</th>\n",
       "      <td>0.800000</td>\n",
       "      <td>0.400000</td>\n",
       "      <td>4.000000</td>\n",
       "      <td>0.250000</td>\n",
       "      <td>4.000000</td>\n",
       "      <td>0.250000</td>\n",
       "      <td>3.800000</td>\n",
       "      <td>0.250000</td>\n",
       "      <td>4.100000</td>\n",
       "      <td>0.250000</td>\n",
       "      <td>...</td>\n",
       "      <td>0.150000</td>\n",
       "      <td>1.700000</td>\n",
       "      <td>0.156750</td>\n",
       "      <td>1.600000</td>\n",
       "      <td>0.075000</td>\n",
       "      <td>1.600000</td>\n",
       "      <td>2.300000</td>\n",
       "      <td>2.300000</td>\n",
       "      <td>2964.000000</td>\n",
       "      <td>38.200000</td>\n",
       "    </tr>\n",
       "    <tr>\n",
       "      <th>max</th>\n",
       "      <td>0.900000</td>\n",
       "      <td>0.500000</td>\n",
       "      <td>5.000000</td>\n",
       "      <td>0.300000</td>\n",
       "      <td>5.000000</td>\n",
       "      <td>0.300000</td>\n",
       "      <td>5.000000</td>\n",
       "      <td>0.300000</td>\n",
       "      <td>5.000000</td>\n",
       "      <td>0.300000</td>\n",
       "      <td>...</td>\n",
       "      <td>0.200000</td>\n",
       "      <td>2.000000</td>\n",
       "      <td>0.200000</td>\n",
       "      <td>2.000000</td>\n",
       "      <td>0.100000</td>\n",
       "      <td>2.000000</td>\n",
       "      <td>3.000000</td>\n",
       "      <td>3.000000</td>\n",
       "      <td>8400.000000</td>\n",
       "      <td>46.200000</td>\n",
       "    </tr>\n",
       "  </tbody>\n",
       "</table>\n",
       "<p>8 rows × 24 columns</p>\n",
       "</div>"
      ],
      "text/plain": [
       "                p           f          a1          a2          a3          a4  \\\n",
       "count  686.000000  689.000000  689.000000  687.000000  694.000000  682.000000   \n",
       "mean     0.702770    0.347170    3.022351    0.201820    2.934150    0.201716   \n",
       "std      0.121576    0.095212    1.126863    0.055531    1.182326    0.056834   \n",
       "min      0.500000    0.200000    1.000000    0.100000    1.000000    0.100000   \n",
       "25%      0.600000    0.300000    2.100000    0.160000    1.900000    0.150000   \n",
       "50%      0.700000    0.300000    3.000000    0.210000    2.900000    0.200000   \n",
       "75%      0.800000    0.400000    4.000000    0.250000    4.000000    0.250000   \n",
       "max      0.900000    0.500000    5.000000    0.300000    5.000000    0.300000   \n",
       "\n",
       "               b1          b2          b3          b4  ...          g1  \\\n",
       "count  681.000000  691.000000  696.000000  693.000000  ...  690.000000   \n",
       "mean     2.928634    0.201331    3.043822    0.201255  ...    0.100848   \n",
       "std      1.129792    0.057870    1.161761    0.058193  ...    0.058267   \n",
       "min      1.000000    0.100000    1.000000    0.100000  ...    0.001000   \n",
       "25%      2.000000    0.150000    2.000000    0.150000  ...    0.051000   \n",
       "50%      2.900000    0.200000    3.100000    0.200000  ...    0.102500   \n",
       "75%      3.800000    0.250000    4.100000    0.250000  ...    0.150000   \n",
       "max      5.000000    0.300000    5.000000    0.300000  ...    0.200000   \n",
       "\n",
       "               g2          l1          l2          l3          l4          e1  \\\n",
       "count  694.000000  686.000000  685.000000  697.000000  686.000000  688.000000   \n",
       "mean     1.272334    0.103284    1.229051    0.051636    1.255831    1.572529   \n",
       "std      0.435722    0.058395    0.432272    0.028267    0.434719    0.859090   \n",
       "min      0.500000    0.000000    0.500000    0.000000    0.500000    0.100000   \n",
       "25%      0.900000    0.049250    0.800000    0.029000    0.900000    0.800000   \n",
       "50%      1.300000    0.104500    1.200000    0.051000    1.300000    1.500000   \n",
       "75%      1.700000    0.156750    1.600000    0.075000    1.600000    2.300000   \n",
       "max      2.000000    0.200000    2.000000    0.100000    2.000000    3.000000   \n",
       "\n",
       "               e2         size    sd_trans  \n",
       "count  689.000000   697.000000  704.000000  \n",
       "mean     1.577504  2150.011478   30.809091  \n",
       "std      0.842806  1559.577619    9.620975  \n",
       "min      0.100000   110.000000    2.200000  \n",
       "25%      0.900000  1014.000000   25.900000  \n",
       "50%      1.600000  1734.000000   32.650000  \n",
       "75%      2.300000  2964.000000   38.200000  \n",
       "max      3.000000  8400.000000   46.200000  \n",
       "\n",
       "[8 rows x 24 columns]"
      ]
     },
     "execution_count": 116,
     "metadata": {},
     "output_type": "execute_result"
    }
   ],
   "source": [
    "df_train.describe()"
   ]
  },
  {
   "cell_type": "code",
   "execution_count": 117,
   "id": "composite-understanding",
   "metadata": {},
   "outputs": [
    {
     "data": {
      "image/png": "[encoded data removed]",
      "text/plain": [
       "<Figure size 1440x1080 with 25 Axes>"
      ]
     },
     "metadata": {
      "needs_background": "light"
     },
     "output_type": "display_data"
    }
   ],
   "source": [
    "%matplotlib inline \n",
    "import matplotlib.pyplot as plt\n",
    "df_train.hist(figsize=(20,15))\n",
    "plt.show() # obs.: bins = number of bins "
   ]
  },
  {
   "cell_type": "code",
   "execution_count": 118,
   "id": "pharmaceutical-maximum",
   "metadata": {},
   "outputs": [
    {
     "data": {
      "text/plain": [
       "True"
      ]
     },
     "execution_count": 118,
     "metadata": {},
     "output_type": "execute_result"
    }
   ],
   "source": [
    "df_train.isnull().values.any()"
   ]
  },
  {
   "cell_type": "code",
   "execution_count": 119,
   "id": "rising-recommendation",
   "metadata": {},
   "outputs": [
    {
     "name": "stdout",
     "output_type": "stream",
     "text": [
      "(704, 26)\n"
     ]
    }
   ],
   "source": [
    "print(df_train.shape)"
   ]
  },
  {
   "cell_type": "code",
   "execution_count": 120,
   "id": "military-astrology",
   "metadata": {},
   "outputs": [
    {
     "name": "stdout",
     "output_type": "stream",
     "text": [
      "(423, 26)\n"
     ]
    }
   ],
   "source": [
    "print(df_train.dropna().shape)"
   ]
  },
  {
   "cell_type": "markdown",
   "id": "insured-passport",
   "metadata": {},
   "source": [
    "### There is a considerable amount of missing data"
   ]
  },
  {
   "cell_type": "markdown",
   "id": "centered-blackjack",
   "metadata": {},
   "source": [
    "####  total number of missing values per feature:"
   ]
  },
  {
   "cell_type": "code",
   "execution_count": 121,
   "id": "conventional-floating",
   "metadata": {},
   "outputs": [
    {
     "name": "stdout",
     "output_type": "stream",
     "text": [
      "p           18\n",
      "f           15\n",
      "a1          15\n",
      "a2          17\n",
      "a3          10\n",
      "a4          22\n",
      "b1          23\n",
      "b2          13\n",
      "b3           8\n",
      "b4          11\n",
      "c1          13\n",
      "c2          19\n",
      "c3          17\n",
      "c4          11\n",
      "g1          14\n",
      "g2          10\n",
      "l1          18\n",
      "l2          19\n",
      "l3           7\n",
      "l4          18\n",
      "e1          16\n",
      "e2          15\n",
      "size         7\n",
      "altitute    15\n",
      "agents      11\n",
      "sd_trans     0\n",
      "dtype: int64\n"
     ]
    }
   ],
   "source": [
    "print (df_train.isnull().sum())"
   ]
  },
  {
   "cell_type": "markdown",
   "id": "guided-visiting",
   "metadata": {},
   "source": [
    "### Handling numerical attributes first:"
   ]
  },
  {
   "cell_type": "code",
   "execution_count": 122,
   "id": "attractive-apparel",
   "metadata": {},
   "outputs": [],
   "source": [
    "from sklearn.impute import SimpleImputer"
   ]
  },
  {
   "cell_type": "code",
   "execution_count": 123,
   "id": "essential-portugal",
   "metadata": {},
   "outputs": [],
   "source": [
    "imputer = SimpleImputer(strategy=\"mean\")"
   ]
  },
  {
   "cell_type": "code",
   "execution_count": 124,
   "id": "comfortable-error",
   "metadata": {},
   "outputs": [],
   "source": [
    "df_train_num = df_train.drop(\"sd_trans\", axis=1)"
   ]
  },
  {
   "cell_type": "code",
   "execution_count": 125,
   "id": "confused-chamber",
   "metadata": {},
   "outputs": [],
   "source": [
    "df_train_num = df_train_num.drop(\"altitute\", axis=1)"
   ]
  },
  {
   "cell_type": "code",
   "execution_count": 126,
   "id": "velvet-shepherd",
   "metadata": {},
   "outputs": [],
   "source": [
    "df_train_num = df_train_num.drop(\"agents\", axis=1)"
   ]
  },
  {
   "cell_type": "code",
   "execution_count": 127,
   "id": "partial-ghost",
   "metadata": {
    "scrolled": true
   },
   "outputs": [
    {
     "name": "stdout",
     "output_type": "stream",
     "text": [
      "<class 'pandas.core.frame.DataFrame'>\n",
      "RangeIndex: 704 entries, 0 to 703\n",
      "Data columns (total 23 columns):\n",
      " #   Column  Non-Null Count  Dtype  \n",
      "---  ------  --------------  -----  \n",
      " 0   p       686 non-null    float64\n",
      " 1   f       689 non-null    float64\n",
      " 2   a1      689 non-null    float64\n",
      " 3   a2      687 non-null    float64\n",
      " 4   a3      694 non-null    float64\n",
      " 5   a4      682 non-null    float64\n",
      " 6   b1      681 non-null    float64\n",
      " 7   b2      691 non-null    float64\n",
      " 8   b3      696 non-null    float64\n",
      " 9   b4      693 non-null    float64\n",
      " 10  c1      691 non-null    float64\n",
      " 11  c2      685 non-null    float64\n",
      " 12  c3      687 non-null    float64\n",
      " 13  c4      693 non-null    float64\n",
      " 14  g1      690 non-null    float64\n",
      " 15  g2      694 non-null    float64\n",
      " 16  l1      686 non-null    float64\n",
      " 17  l2      685 non-null    float64\n",
      " 18  l3      697 non-null    float64\n",
      " 19  l4      686 non-null    float64\n",
      " 20  e1      688 non-null    float64\n",
      " 21  e2      689 non-null    float64\n",
      " 22  size    697 non-null    float64\n",
      "dtypes: float64(23)\n",
      "memory usage: 126.6 KB\n"
     ]
    }
   ],
   "source": [
    "df_train_num.info()"
   ]
  },
  {
   "cell_type": "markdown",
   "id": "floating-teach",
   "metadata": {},
   "source": [
    "### Fitting the imputer instance to the training data using the fit() method:"
   ]
  },
  {
   "cell_type": "code",
   "execution_count": 128,
   "id": "excessive-pointer",
   "metadata": {},
   "outputs": [
    {
     "data": {
      "text/plain": [
       "SimpleImputer()"
      ]
     },
     "execution_count": 128,
     "metadata": {},
     "output_type": "execute_result"
    }
   ],
   "source": [
    "imputer.fit(df_train_num)"
   ]
  },
  {
   "cell_type": "markdown",
   "id": "first-stability",
   "metadata": {},
   "source": [
    "#### The imputer has simply computed the mean of each attribute and stored the result in its statistics_ instance variable"
   ]
  },
  {
   "cell_type": "code",
   "execution_count": 129,
   "id": "subjective-produce",
   "metadata": {},
   "outputs": [
    {
     "data": {
      "text/plain": [
       "array([7.02769679e-01, 3.47169811e-01, 3.02235123e+00, 2.01819505e-01,\n",
       "       2.93414986e+00, 2.01715543e-01, 2.92863436e+00, 2.01331404e-01,\n",
       "       3.04382184e+00, 2.01255411e-01, 3.05267728e+00, 2.01708029e-01,\n",
       "       2.98791849e+00, 1.98975469e-01, 1.00847826e-01, 1.27233429e+00,\n",
       "       1.03284257e-01, 1.22905109e+00, 5.16355811e-02, 1.25583090e+00,\n",
       "       1.57252907e+00, 1.57750363e+00, 2.15001148e+03])"
      ]
     },
     "execution_count": 129,
     "metadata": {},
     "output_type": "execute_result"
    }
   ],
   "source": [
    "imputer.statistics_"
   ]
  },
  {
   "cell_type": "code",
   "execution_count": 130,
   "id": "cellular-triple",
   "metadata": {},
   "outputs": [
    {
     "data": {
      "text/plain": [
       "array([7.02769679e-01, 3.47169811e-01, 3.02235123e+00, 2.01819505e-01,\n",
       "       2.93414986e+00, 2.01715543e-01, 2.92863436e+00, 2.01331404e-01,\n",
       "       3.04382184e+00, 2.01255411e-01, 3.05267728e+00, 2.01708029e-01,\n",
       "       2.98791849e+00, 1.98975469e-01, 1.00847826e-01, 1.27233429e+00,\n",
       "       1.03284257e-01, 1.22905109e+00, 5.16355811e-02, 1.25583090e+00,\n",
       "       1.57252907e+00, 1.57750363e+00, 2.15001148e+03])"
      ]
     },
     "execution_count": 130,
     "metadata": {},
     "output_type": "execute_result"
    }
   ],
   "source": [
    "df_train_num.mean().values"
   ]
  },
  {
   "cell_type": "markdown",
   "id": "public-puzzle",
   "metadata": {},
   "source": [
    "#### Using this “trained” imputer to transform the training set by replacing missing values with the learned medians"
   ]
  },
  {
   "cell_type": "code",
   "execution_count": 131,
   "id": "green-albany",
   "metadata": {},
   "outputs": [],
   "source": [
    "df_train_numeric = imputer.transform(df_train_num)"
   ]
  },
  {
   "cell_type": "code",
   "execution_count": 132,
   "id": "opposite-composite",
   "metadata": {},
   "outputs": [
    {
     "data": {
      "text/plain": [
       "array([[6.000e-01, 4.000e-01, 2.400e+00, ..., 2.200e+00, 2.000e-01,\n",
       "        1.856e+03],\n",
       "       [7.000e-01, 4.000e-01, 2.900e+00, ..., 2.000e-01, 1.900e+00,\n",
       "        8.800e+02],\n",
       "       [7.000e-01, 5.000e-01, 1.900e+00, ..., 2.700e+00, 1.000e+00,\n",
       "        1.920e+03],\n",
       "       ...,\n",
       "       [5.000e-01, 5.000e-01, 2.600e+00, ..., 8.000e-01, 2.900e+00,\n",
       "        2.760e+03],\n",
       "       [8.000e-01, 3.000e-01, 3.400e+00, ..., 2.200e+00, 2.000e-01,\n",
       "        5.220e+02],\n",
       "       [5.000e-01, 4.000e-01, 3.300e+00, ..., 1.500e+00, 2.200e+00,\n",
       "        5.250e+02]])"
      ]
     },
     "execution_count": 132,
     "metadata": {},
     "output_type": "execute_result"
    }
   ],
   "source": [
    "df_train_numeric"
   ]
  },
  {
   "cell_type": "markdown",
   "id": "competitive-identifier",
   "metadata": {},
   "source": [
    "#### The result is a plain NumPy array containing the transformed features. Putting it back into a pandas DataFrame"
   ]
  },
  {
   "cell_type": "code",
   "execution_count": 133,
   "id": "freelance-clone",
   "metadata": {},
   "outputs": [],
   "source": [
    "df_tr = pd.DataFrame(df_train_numeric, columns=df_train_num.columns, index=df_train_num.index)"
   ]
  },
  {
   "cell_type": "markdown",
   "id": "tested-return",
   "metadata": {},
   "source": [
    "### Now, handling catigorical attributes"
   ]
  },
  {
   "cell_type": "code",
   "execution_count": 134,
   "id": "confirmed-macedonia",
   "metadata": {},
   "outputs": [],
   "source": [
    "df_cat = df_train[[\"altitute\",\"agents\"]]"
   ]
  },
  {
   "cell_type": "code",
   "execution_count": 135,
   "id": "american-consultancy",
   "metadata": {},
   "outputs": [
    {
     "data": {
      "text/html": [
       "<div>\n",
       "<style scoped>\n",
       "    .dataframe tbody tr th:only-of-type {\n",
       "        vertical-align: middle;\n",
       "    }\n",
       "\n",
       "    .dataframe tbody tr th {\n",
       "        vertical-align: top;\n",
       "    }\n",
       "\n",
       "    .dataframe thead th {\n",
       "        text-align: right;\n",
       "    }\n",
       "</style>\n",
       "<table border=\"1\" class=\"dataframe\">\n",
       "  <thead>\n",
       "    <tr style=\"text-align: right;\">\n",
       "      <th></th>\n",
       "      <th>altitute</th>\n",
       "      <th>agents</th>\n",
       "    </tr>\n",
       "  </thead>\n",
       "  <tbody>\n",
       "    <tr>\n",
       "      <th>0</th>\n",
       "      <td>average</td>\n",
       "      <td>950+</td>\n",
       "    </tr>\n",
       "    <tr>\n",
       "      <th>1</th>\n",
       "      <td>average</td>\n",
       "      <td>950+</td>\n",
       "    </tr>\n",
       "    <tr>\n",
       "      <th>2</th>\n",
       "      <td>high</td>\n",
       "      <td>50+</td>\n",
       "    </tr>\n",
       "    <tr>\n",
       "      <th>3</th>\n",
       "      <td>average</td>\n",
       "      <td>50+</td>\n",
       "    </tr>\n",
       "    <tr>\n",
       "      <th>4</th>\n",
       "      <td>average</td>\n",
       "      <td>50+</td>\n",
       "    </tr>\n",
       "  </tbody>\n",
       "</table>\n",
       "</div>"
      ],
      "text/plain": [
       "  altitute agents\n",
       "0  average   950+\n",
       "1  average   950+\n",
       "2     high    50+\n",
       "3  average    50+\n",
       "4  average    50+"
      ]
     },
     "execution_count": 135,
     "metadata": {},
     "output_type": "execute_result"
    }
   ],
   "source": [
    "df_cat.head()"
   ]
  },
  {
   "cell_type": "markdown",
   "id": "promotional-sally",
   "metadata": {},
   "source": [
    "#### Most Machine Learning algorithms prefer to work with numbers, so let’s convert these categories from text to numbers."
   ]
  },
  {
   "cell_type": "code",
   "execution_count": 136,
   "id": "specified-oasis",
   "metadata": {},
   "outputs": [],
   "source": [
    "imp = SimpleImputer(strategy=\"most_frequent\")"
   ]
  },
  {
   "cell_type": "code",
   "execution_count": 137,
   "id": "accomplished-beijing",
   "metadata": {},
   "outputs": [],
   "source": [
    "df_cat2 = imp.fit_transform(df_cat)"
   ]
  },
  {
   "cell_type": "code",
   "execution_count": 138,
   "id": "primary-pharmacology",
   "metadata": {},
   "outputs": [],
   "source": [
    "df_categorical = pd.DataFrame(df_cat2, columns=df_cat.columns, index=df_cat.index)"
   ]
  },
  {
   "cell_type": "code",
   "execution_count": 139,
   "id": "honest-plant",
   "metadata": {},
   "outputs": [
    {
     "data": {
      "text/html": [
       "<div>\n",
       "<style scoped>\n",
       "    .dataframe tbody tr th:only-of-type {\n",
       "        vertical-align: middle;\n",
       "    }\n",
       "\n",
       "    .dataframe tbody tr th {\n",
       "        vertical-align: top;\n",
       "    }\n",
       "\n",
       "    .dataframe thead th {\n",
       "        text-align: right;\n",
       "    }\n",
       "</style>\n",
       "<table border=\"1\" class=\"dataframe\">\n",
       "  <thead>\n",
       "    <tr style=\"text-align: right;\">\n",
       "      <th></th>\n",
       "      <th>altitute</th>\n",
       "      <th>agents</th>\n",
       "    </tr>\n",
       "  </thead>\n",
       "  <tbody>\n",
       "    <tr>\n",
       "      <th>0</th>\n",
       "      <td>average</td>\n",
       "      <td>950+</td>\n",
       "    </tr>\n",
       "    <tr>\n",
       "      <th>1</th>\n",
       "      <td>average</td>\n",
       "      <td>950+</td>\n",
       "    </tr>\n",
       "    <tr>\n",
       "      <th>2</th>\n",
       "      <td>high</td>\n",
       "      <td>50+</td>\n",
       "    </tr>\n",
       "    <tr>\n",
       "      <th>3</th>\n",
       "      <td>average</td>\n",
       "      <td>50+</td>\n",
       "    </tr>\n",
       "    <tr>\n",
       "      <th>4</th>\n",
       "      <td>average</td>\n",
       "      <td>50+</td>\n",
       "    </tr>\n",
       "  </tbody>\n",
       "</table>\n",
       "</div>"
      ],
      "text/plain": [
       "  altitute agents\n",
       "0  average   950+\n",
       "1  average   950+\n",
       "2     high    50+\n",
       "3  average    50+\n",
       "4  average    50+"
      ]
     },
     "execution_count": 139,
     "metadata": {},
     "output_type": "execute_result"
    }
   ],
   "source": [
    "df_categorical.head()"
   ]
  },
  {
   "cell_type": "code",
   "execution_count": 140,
   "id": "absolute-republican",
   "metadata": {},
   "outputs": [],
   "source": [
    "from sklearn.preprocessing import OneHotEncoder"
   ]
  },
  {
   "cell_type": "code",
   "execution_count": 141,
   "id": "multiple-personality",
   "metadata": {},
   "outputs": [],
   "source": [
    "categorical_encoder = OneHotEncoder()"
   ]
  },
  {
   "cell_type": "code",
   "execution_count": 142,
   "id": "secret-stylus",
   "metadata": {},
   "outputs": [],
   "source": [
    "df_categorical_1hot = categorical_encoder.fit_transform(df_categorical)"
   ]
  },
  {
   "cell_type": "code",
   "execution_count": 143,
   "id": "comprehensive-importance",
   "metadata": {},
   "outputs": [
    {
     "data": {
      "text/plain": [
       "<704x22 sparse matrix of type '<class 'numpy.float64'>'\n",
       "\twith 1408 stored elements in Compressed Sparse Row format>"
      ]
     },
     "execution_count": 143,
     "metadata": {},
     "output_type": "execute_result"
    }
   ],
   "source": [
    "df_categorical_1hot"
   ]
  },
  {
   "cell_type": "code",
   "execution_count": 144,
   "id": "under-cathedral",
   "metadata": {},
   "outputs": [
    {
     "data": {
      "text/plain": [
       "array([[1., 0., 0., ..., 0., 0., 1.],\n",
       "       [1., 0., 0., ..., 0., 0., 1.],\n",
       "       [0., 1., 0., ..., 0., 0., 0.],\n",
       "       ...,\n",
       "       [1., 0., 0., ..., 0., 0., 1.],\n",
       "       [0., 0., 1., ..., 0., 0., 1.],\n",
       "       [0., 0., 1., ..., 0., 0., 1.]])"
      ]
     },
     "execution_count": 144,
     "metadata": {},
     "output_type": "execute_result"
    }
   ],
   "source": [
    "df_categorical_1hot.toarray()"
   ]
  },
  {
   "cell_type": "code",
   "execution_count": 145,
   "id": "false-touch",
   "metadata": {},
   "outputs": [
    {
     "data": {
      "text/plain": [
       "[array(['average', 'high', 'low'], dtype=object),\n",
       " array(['100+', '150+', '200+', '250+', '300+', '350+', '400+', '450+',\n",
       "        '50+', '500+', '550+', '600+', '650+', '700+', '750+', '800+',\n",
       "        '850+', '900+', '950+'], dtype=object)]"
      ]
     },
     "execution_count": 145,
     "metadata": {},
     "output_type": "execute_result"
    }
   ],
   "source": [
    "categorical_encoder.categories_"
   ]
  },
  {
   "cell_type": "code",
   "execution_count": null,
   "id": "minute-texas",
   "metadata": {},
   "outputs": [],
   "source": []
  },
  {
   "cell_type": "markdown",
   "id": "thousand-version",
   "metadata": {},
   "source": [
    "\n"
   ]
  },
  {
   "cell_type": "code",
   "execution_count": 146,
   "id": "interpreted-outside",
   "metadata": {},
   "outputs": [],
   "source": [
    "import numpy as np\n",
    "X_preprocessed = np.concatenate((df_train_numeric,df_categorical_1hot.toarray()), axis=1)"
   ]
  },
  {
   "cell_type": "code",
   "execution_count": 147,
   "id": "lovely-malpractice",
   "metadata": {},
   "outputs": [
    {
     "name": "stdout",
     "output_type": "stream",
     "text": [
      "[[0.6 0.4 2.4 ... 0.  0.  1. ]\n",
      " [0.7 0.4 2.9 ... 0.  0.  1. ]\n",
      " [0.7 0.5 1.9 ... 0.  0.  0. ]\n",
      " ...\n",
      " [0.5 0.5 2.6 ... 0.  0.  1. ]\n",
      " [0.8 0.3 3.4 ... 0.  0.  1. ]\n",
      " [0.5 0.4 3.3 ... 0.  0.  1. ]]\n",
      "(704, 45)\n"
     ]
    }
   ],
   "source": [
    "print(X_preprocessed)\n",
    "print(X_preprocessed.shape)"
   ]
  },
  {
   "cell_type": "code",
   "execution_count": 148,
   "id": "caring-victory",
   "metadata": {},
   "outputs": [
    {
     "name": "stdout",
     "output_type": "stream",
     "text": [
      "0      43.0\n",
      "1      43.1\n",
      "2      20.4\n",
      "3       6.1\n",
      "4      28.6\n",
      "       ... \n",
      "699    38.6\n",
      "700    46.0\n",
      "701    38.2\n",
      "702    43.7\n",
      "703    36.4\n",
      "Name: sd_trans, Length: 704, dtype: float64\n"
     ]
    }
   ],
   "source": [
    "y = df_train.sd_trans\n",
    "print(y)"
   ]
  },
  {
   "cell_type": "code",
   "execution_count": 149,
   "id": "stuck-onion",
   "metadata": {},
   "outputs": [],
   "source": [
    "from sklearn.model_selection import train_test_split\n",
    "Xtrain, Xtest, ytrain, ytest = train_test_split(X_preprocessed, y,test_size=0.20,random_state=42)"
   ]
  },
  {
   "cell_type": "code",
   "execution_count": null,
   "id": "present-genealogy",
   "metadata": {},
   "outputs": [],
   "source": []
  },
  {
   "cell_type": "code",
   "execution_count": 150,
   "id": "liberal-flower",
   "metadata": {},
   "outputs": [],
   "source": [
    "### Linear regression\n"
   ]
  },
  {
   "cell_type": "code",
   "execution_count": 151,
   "id": "tight-booking",
   "metadata": {},
   "outputs": [
    {
     "data": {
      "text/plain": [
       "LinearRegression()"
      ]
     },
     "execution_count": 151,
     "metadata": {},
     "output_type": "execute_result"
    }
   ],
   "source": [
    "from sklearn.linear_model import LinearRegression\n",
    "lin_reg = LinearRegression()\n",
    "lin_reg.fit(Xtrain, ytrain)"
   ]
  },
  {
   "cell_type": "code",
   "execution_count": 152,
   "id": "alive-spice",
   "metadata": {},
   "outputs": [],
   "source": [
    "from sklearn.metrics import mean_squared_error\n",
    "predictions = lin_reg.predict(Xtest)\n"
   ]
  },
  {
   "cell_type": "code",
   "execution_count": 153,
   "id": "foreign-recognition",
   "metadata": {},
   "outputs": [
    {
     "data": {
      "text/plain": [
       "(141, 45)"
      ]
     },
     "execution_count": 153,
     "metadata": {},
     "output_type": "execute_result"
    }
   ],
   "source": [
    "Xtest.shape"
   ]
  },
  {
   "cell_type": "code",
   "execution_count": 154,
   "id": "seventh-alloy",
   "metadata": {},
   "outputs": [
    {
     "data": {
      "text/plain": [
       "array([33.56130498, 29.71316017, 18.80757382, 38.69271156, 34.88951383,\n",
       "       28.22475398, 30.14602447, 20.20071797, 28.87825346, 34.34517064,\n",
       "       31.69480117, 36.91322119, 28.45894202, 27.73631314, 32.45331218,\n",
       "       33.53401092, 23.74295409, 34.88500756, 27.59531543, 35.0202308 ,\n",
       "       32.08719521, 29.88302518, 37.36199565, 34.86746356, 22.49956239,\n",
       "       34.81635101, 34.85963139, 25.79362011, 31.36682732, 17.12965435,\n",
       "       34.9211787 , 15.86583148, 45.0342276 , 31.05516497, 39.89133708,\n",
       "       43.26277543, 27.47314532, 36.33643377, 40.40018126, 22.72088546,\n",
       "       22.12202323, 27.02246639, 37.93894719, 36.43573992, 22.25240773,\n",
       "       25.23692859, 22.89013044, 32.8151602 , 25.96599643, 11.96070943,\n",
       "       39.73936865, 25.28725599, 33.76969298, 35.20111007, 35.86533517,\n",
       "       21.52981566, 19.0012602 , 36.22556822, 15.23036031, 30.47404392,\n",
       "       35.58856958, 19.96405125, 35.01092168, 15.22530945, 33.53110735,\n",
       "       46.89065106, 45.87056704, 23.41280415, 32.64529255, 29.49291512,\n",
       "       25.63454844, 21.07592019, 35.14011408, 30.5470275 , 21.2004521 ,\n",
       "       26.7697769 , 42.19885582, 28.45370992, 19.60331235, 35.07372302,\n",
       "       29.65140345, 36.57673808, 14.14559168, 13.93719972, 43.40120179,\n",
       "       33.13134803, 31.87289131, 45.55038583, 31.60602505, 26.30600975,\n",
       "       40.51855048, 38.5376246 , 25.67509147, 25.34663662, 30.39686362,\n",
       "       32.3889561 , 14.860231  , 33.13525899, 32.00651027, 15.40669676,\n",
       "       34.2999874 , 30.4212399 , 26.05767797, 27.17995666, 30.99567523,\n",
       "       39.25249544, 28.8697231 , 37.76988904, 42.7462181 , 40.94889531,\n",
       "       26.30121694, 29.70737292, 15.01203537, 22.13801725, 28.04224593,\n",
       "       26.99950179, 29.46675666, 42.00035914, 37.74433348, 43.02487211,\n",
       "       28.54707318, 21.79597983, 21.71093054, 37.36474853, 45.74753673,\n",
       "       24.91012461, 30.803009  , 33.92869088, 17.02426362, 15.82018598,\n",
       "       23.73310468, 33.76083697, 33.53551819, 35.03962367, 49.4490179 ,\n",
       "       38.50593906, 41.82412841, 30.17815771, 20.71207807, 36.60094699,\n",
       "       32.32329157])"
      ]
     },
     "execution_count": 154,
     "metadata": {},
     "output_type": "execute_result"
    }
   ],
   "source": [
    "predictions"
   ]
  },
  {
   "cell_type": "code",
   "execution_count": 155,
   "id": "fresh-sessions",
   "metadata": {},
   "outputs": [],
   "source": [
    "rmse = np.sqrt(mean_squared_error(ytest,predictions))"
   ]
  },
  {
   "cell_type": "code",
   "execution_count": 156,
   "id": "indirect-investor",
   "metadata": {},
   "outputs": [
    {
     "data": {
      "text/plain": [
       "5.679718230241649"
      ]
     },
     "execution_count": 156,
     "metadata": {},
     "output_type": "execute_result"
    }
   ],
   "source": [
    "rmse"
   ]
  },
  {
   "cell_type": "code",
   "execution_count": 157,
   "id": "cordless-material",
   "metadata": {},
   "outputs": [],
   "source": [
    "test_df =  pd.read_csv('warmupv4publictest.csv')"
   ]
  },
  {
   "cell_type": "code",
   "execution_count": 158,
   "id": "another-conference",
   "metadata": {},
   "outputs": [
    {
     "data": {
      "text/html": [
       "<div>\n",
       "<style scoped>\n",
       "    .dataframe tbody tr th:only-of-type {\n",
       "        vertical-align: middle;\n",
       "    }\n",
       "\n",
       "    .dataframe tbody tr th {\n",
       "        vertical-align: top;\n",
       "    }\n",
       "\n",
       "    .dataframe thead th {\n",
       "        text-align: right;\n",
       "    }\n",
       "</style>\n",
       "<table border=\"1\" class=\"dataframe\">\n",
       "  <thead>\n",
       "    <tr style=\"text-align: right;\">\n",
       "      <th></th>\n",
       "      <th>id</th>\n",
       "      <th>p</th>\n",
       "      <th>f</th>\n",
       "      <th>a1</th>\n",
       "      <th>a2</th>\n",
       "      <th>a3</th>\n",
       "      <th>a4</th>\n",
       "      <th>b1</th>\n",
       "      <th>b2</th>\n",
       "      <th>b3</th>\n",
       "      <th>...</th>\n",
       "      <th>g2</th>\n",
       "      <th>l1</th>\n",
       "      <th>l2</th>\n",
       "      <th>l3</th>\n",
       "      <th>l4</th>\n",
       "      <th>e1</th>\n",
       "      <th>e2</th>\n",
       "      <th>size</th>\n",
       "      <th>altitute</th>\n",
       "      <th>agents</th>\n",
       "    </tr>\n",
       "  </thead>\n",
       "  <tbody>\n",
       "    <tr>\n",
       "      <th>0</th>\n",
       "      <td>1</td>\n",
       "      <td>0.7</td>\n",
       "      <td>0.3</td>\n",
       "      <td>4.5</td>\n",
       "      <td>0.25</td>\n",
       "      <td>4.1</td>\n",
       "      <td>0.29</td>\n",
       "      <td>1.4</td>\n",
       "      <td>0.19</td>\n",
       "      <td>2.0</td>\n",
       "      <td>...</td>\n",
       "      <td>0.8</td>\n",
       "      <td>0.123</td>\n",
       "      <td>1.2</td>\n",
       "      <td>0.011</td>\n",
       "      <td>1.7</td>\n",
       "      <td>0.8</td>\n",
       "      <td>2.4</td>\n",
       "      <td>3402.0</td>\n",
       "      <td>average</td>\n",
       "      <td>50+</td>\n",
       "    </tr>\n",
       "    <tr>\n",
       "      <th>1</th>\n",
       "      <td>2</td>\n",
       "      <td>0.5</td>\n",
       "      <td>0.2</td>\n",
       "      <td>1.9</td>\n",
       "      <td>0.16</td>\n",
       "      <td>4.8</td>\n",
       "      <td>0.14</td>\n",
       "      <td>1.2</td>\n",
       "      <td>0.19</td>\n",
       "      <td>2.0</td>\n",
       "      <td>...</td>\n",
       "      <td>0.6</td>\n",
       "      <td>0.096</td>\n",
       "      <td>1.6</td>\n",
       "      <td>0.019</td>\n",
       "      <td>0.7</td>\n",
       "      <td>0.9</td>\n",
       "      <td>1.9</td>\n",
       "      <td>5280.0</td>\n",
       "      <td>high</td>\n",
       "      <td>950+</td>\n",
       "    </tr>\n",
       "    <tr>\n",
       "      <th>2</th>\n",
       "      <td>3</td>\n",
       "      <td>0.6</td>\n",
       "      <td>0.3</td>\n",
       "      <td>2.1</td>\n",
       "      <td>0.10</td>\n",
       "      <td>2.5</td>\n",
       "      <td>0.27</td>\n",
       "      <td>2.7</td>\n",
       "      <td>0.18</td>\n",
       "      <td>4.8</td>\n",
       "      <td>...</td>\n",
       "      <td>1.2</td>\n",
       "      <td>0.180</td>\n",
       "      <td>0.8</td>\n",
       "      <td>0.019</td>\n",
       "      <td>1.7</td>\n",
       "      <td>1.9</td>\n",
       "      <td>2.4</td>\n",
       "      <td>144.0</td>\n",
       "      <td>low</td>\n",
       "      <td>50+</td>\n",
       "    </tr>\n",
       "    <tr>\n",
       "      <th>3</th>\n",
       "      <td>4</td>\n",
       "      <td>0.5</td>\n",
       "      <td>0.3</td>\n",
       "      <td>3.6</td>\n",
       "      <td>0.18</td>\n",
       "      <td>1.5</td>\n",
       "      <td>0.17</td>\n",
       "      <td>1.7</td>\n",
       "      <td>0.25</td>\n",
       "      <td>4.3</td>\n",
       "      <td>...</td>\n",
       "      <td>1.9</td>\n",
       "      <td>0.068</td>\n",
       "      <td>1.9</td>\n",
       "      <td>0.000</td>\n",
       "      <td>0.9</td>\n",
       "      <td>2.3</td>\n",
       "      <td>0.6</td>\n",
       "      <td>3024.0</td>\n",
       "      <td>high</td>\n",
       "      <td>50+</td>\n",
       "    </tr>\n",
       "    <tr>\n",
       "      <th>4</th>\n",
       "      <td>5</td>\n",
       "      <td>0.6</td>\n",
       "      <td>0.4</td>\n",
       "      <td>4.9</td>\n",
       "      <td>0.11</td>\n",
       "      <td>3.1</td>\n",
       "      <td>0.13</td>\n",
       "      <td>3.4</td>\n",
       "      <td>0.26</td>\n",
       "      <td>2.4</td>\n",
       "      <td>...</td>\n",
       "      <td>NaN</td>\n",
       "      <td>0.132</td>\n",
       "      <td>1.1</td>\n",
       "      <td>0.042</td>\n",
       "      <td>1.5</td>\n",
       "      <td>1.0</td>\n",
       "      <td>2.5</td>\n",
       "      <td>1056.0</td>\n",
       "      <td>high</td>\n",
       "      <td>50+</td>\n",
       "    </tr>\n",
       "  </tbody>\n",
       "</table>\n",
       "<p>5 rows × 26 columns</p>\n",
       "</div>"
      ],
      "text/plain": [
       "   id    p    f   a1    a2   a3    a4   b1    b2   b3  ...   g2     l1   l2  \\\n",
       "0   1  0.7  0.3  4.5  0.25  4.1  0.29  1.4  0.19  2.0  ...  0.8  0.123  1.2   \n",
       "1   2  0.5  0.2  1.9  0.16  4.8  0.14  1.2  0.19  2.0  ...  0.6  0.096  1.6   \n",
       "2   3  0.6  0.3  2.1  0.10  2.5  0.27  2.7  0.18  4.8  ...  1.2  0.180  0.8   \n",
       "3   4  0.5  0.3  3.6  0.18  1.5  0.17  1.7  0.25  4.3  ...  1.9  0.068  1.9   \n",
       "4   5  0.6  0.4  4.9  0.11  3.1  0.13  3.4  0.26  2.4  ...  NaN  0.132  1.1   \n",
       "\n",
       "      l3   l4   e1   e2    size  altitute  agents  \n",
       "0  0.011  1.7  0.8  2.4  3402.0   average     50+  \n",
       "1  0.019  0.7  0.9  1.9  5280.0      high    950+  \n",
       "2  0.019  1.7  1.9  2.4   144.0       low     50+  \n",
       "3  0.000  0.9  2.3  0.6  3024.0      high     50+  \n",
       "4  0.042  1.5  1.0  2.5  1056.0      high     50+  \n",
       "\n",
       "[5 rows x 26 columns]"
      ]
     },
     "execution_count": 158,
     "metadata": {},
     "output_type": "execute_result"
    }
   ],
   "source": [
    "test_df.head()"
   ]
  },
  {
   "cell_type": "code",
   "execution_count": 159,
   "id": "photographic-pixel",
   "metadata": {
    "scrolled": true
   },
   "outputs": [
    {
     "name": "stdout",
     "output_type": "stream",
     "text": [
      "<class 'pandas.core.frame.DataFrame'>\n",
      "RangeIndex: 296 entries, 0 to 295\n",
      "Data columns (total 26 columns):\n",
      " #   Column    Non-Null Count  Dtype  \n",
      "---  ------    --------------  -----  \n",
      " 0   id        296 non-null    int64  \n",
      " 1   p         291 non-null    float64\n",
      " 2   f         294 non-null    float64\n",
      " 3   a1        288 non-null    float64\n",
      " 4   a2        291 non-null    float64\n",
      " 5   a3        289 non-null    float64\n",
      " 6   a4        290 non-null    float64\n",
      " 7   b1        291 non-null    float64\n",
      " 8   b2        288 non-null    float64\n",
      " 9   b3        294 non-null    float64\n",
      " 10  b4        294 non-null    float64\n",
      " 11  c1        293 non-null    float64\n",
      " 12  c2        288 non-null    float64\n",
      " 13  c3        290 non-null    float64\n",
      " 14  c4        290 non-null    float64\n",
      " 15  g1        290 non-null    float64\n",
      " 16  g2        289 non-null    float64\n",
      " 17  l1        290 non-null    float64\n",
      " 18  l2        291 non-null    float64\n",
      " 19  l3        292 non-null    float64\n",
      " 20  l4        288 non-null    float64\n",
      " 21  e1        289 non-null    float64\n",
      " 22  e2        290 non-null    float64\n",
      " 23  size      291 non-null    float64\n",
      " 24  altitute  288 non-null    object \n",
      " 25  agents    292 non-null    object \n",
      "dtypes: float64(23), int64(1), object(2)\n",
      "memory usage: 60.2+ KB\n"
     ]
    }
   ],
   "source": [
    "test_df.info()"
   ]
  },
  {
   "cell_type": "code",
   "execution_count": 160,
   "id": "russian-twist",
   "metadata": {},
   "outputs": [],
   "source": [
    "test_df = test_df.drop(\"id\",axis=1)"
   ]
  },
  {
   "cell_type": "code",
   "execution_count": 161,
   "id": "identical-spare",
   "metadata": {},
   "outputs": [
    {
     "name": "stdout",
     "output_type": "stream",
     "text": [
      "p           5\n",
      "f           2\n",
      "a1          8\n",
      "a2          5\n",
      "a3          7\n",
      "a4          6\n",
      "b1          5\n",
      "b2          8\n",
      "b3          2\n",
      "b4          2\n",
      "c1          3\n",
      "c2          8\n",
      "c3          6\n",
      "c4          6\n",
      "g1          6\n",
      "g2          7\n",
      "l1          6\n",
      "l2          5\n",
      "l3          4\n",
      "l4          8\n",
      "e1          7\n",
      "e2          6\n",
      "size        5\n",
      "altitute    8\n",
      "agents      4\n",
      "dtype: int64\n"
     ]
    }
   ],
   "source": [
    "print (test_df.isnull().sum())"
   ]
  },
  {
   "cell_type": "code",
   "execution_count": 162,
   "id": "compact-behavior",
   "metadata": {},
   "outputs": [
    {
     "name": "stdout",
     "output_type": "stream",
     "text": [
      "<class 'pandas.core.frame.DataFrame'>\n",
      "RangeIndex: 296 entries, 0 to 295\n",
      "Data columns (total 25 columns):\n",
      " #   Column    Non-Null Count  Dtype  \n",
      "---  ------    --------------  -----  \n",
      " 0   p         291 non-null    float64\n",
      " 1   f         294 non-null    float64\n",
      " 2   a1        288 non-null    float64\n",
      " 3   a2        291 non-null    float64\n",
      " 4   a3        289 non-null    float64\n",
      " 5   a4        290 non-null    float64\n",
      " 6   b1        291 non-null    float64\n",
      " 7   b2        288 non-null    float64\n",
      " 8   b3        294 non-null    float64\n",
      " 9   b4        294 non-null    float64\n",
      " 10  c1        293 non-null    float64\n",
      " 11  c2        288 non-null    float64\n",
      " 12  c3        290 non-null    float64\n",
      " 13  c4        290 non-null    float64\n",
      " 14  g1        290 non-null    float64\n",
      " 15  g2        289 non-null    float64\n",
      " 16  l1        290 non-null    float64\n",
      " 17  l2        291 non-null    float64\n",
      " 18  l3        292 non-null    float64\n",
      " 19  l4        288 non-null    float64\n",
      " 20  e1        289 non-null    float64\n",
      " 21  e2        290 non-null    float64\n",
      " 22  size      291 non-null    float64\n",
      " 23  altitute  288 non-null    object \n",
      " 24  agents    292 non-null    object \n",
      "dtypes: float64(23), object(2)\n",
      "memory usage: 57.9+ KB\n"
     ]
    }
   ],
   "source": [
    "test_df.info()"
   ]
  },
  {
   "cell_type": "code",
   "execution_count": 163,
   "id": "applied-validation",
   "metadata": {},
   "outputs": [],
   "source": [
    "categorical_encoder = OneHotEncoder()"
   ]
  },
  {
   "cell_type": "code",
   "execution_count": 164,
   "id": "otherwise-sword",
   "metadata": {},
   "outputs": [],
   "source": [
    "df_test_categorical = test_df[[\"altitute\",\"agents\"]]"
   ]
  },
  {
   "cell_type": "code",
   "execution_count": 165,
   "id": "identical-ceremony",
   "metadata": {},
   "outputs": [],
   "source": [
    "imputer = SimpleImputer(strategy=\"mean\")\n",
    "\n",
    "df_test_num = test_df.drop(\"altitute\", axis=1)\n",
    "\n",
    "df_test_num = df_test_num.drop(\"agents\", axis=1)"
   ]
  },
  {
   "cell_type": "code",
   "execution_count": 166,
   "id": "willing-idaho",
   "metadata": {},
   "outputs": [],
   "source": [
    "imputer.fit(df_test_num)\n",
    "X_test = imputer.transform(df_test_num)\n",
    "\n"
   ]
  },
  {
   "cell_type": "code",
   "execution_count": 167,
   "id": "different-acquisition",
   "metadata": {},
   "outputs": [
    {
     "data": {
      "text/plain": [
       "array([[7.000e-01, 3.000e-01, 4.500e+00, ..., 8.000e-01, 2.400e+00,\n",
       "        3.402e+03],\n",
       "       [5.000e-01, 2.000e-01, 1.900e+00, ..., 9.000e-01, 1.900e+00,\n",
       "        5.280e+03],\n",
       "       [6.000e-01, 3.000e-01, 2.100e+00, ..., 1.900e+00, 2.400e+00,\n",
       "        1.440e+02],\n",
       "       ...,\n",
       "       [8.000e-01, 3.000e-01, 1.100e+00, ..., 1.500e+00, 1.300e+00,\n",
       "        5.220e+03],\n",
       "       [9.000e-01, 3.000e-01, 4.300e+00, ..., 2.100e+00, 5.000e-01,\n",
       "        3.648e+03],\n",
       "       [5.000e-01, 2.000e-01, 2.500e+00, ..., 5.000e-01, 8.000e-01,\n",
       "        1.440e+03]])"
      ]
     },
     "execution_count": 167,
     "metadata": {},
     "output_type": "execute_result"
    }
   ],
   "source": [
    "X_test"
   ]
  },
  {
   "cell_type": "code",
   "execution_count": 168,
   "id": "bridal-colon",
   "metadata": {},
   "outputs": [],
   "source": [
    "imp = SimpleImputer(strategy=\"most_frequent\")"
   ]
  },
  {
   "cell_type": "code",
   "execution_count": 169,
   "id": "finite-penetration",
   "metadata": {},
   "outputs": [],
   "source": [
    "df_test_cat = imp.fit_transform(df_test_categorical)"
   ]
  },
  {
   "cell_type": "code",
   "execution_count": 170,
   "id": "lined-feelings",
   "metadata": {},
   "outputs": [
    {
     "data": {
      "text/plain": [
       "array([['average', '50+'],\n",
       "       ['high', '950+'],\n",
       "       ['low', '50+'],\n",
       "       ['high', '50+'],\n",
       "       ['high', '50+'],\n",
       "       ['average', '50+'],\n",
       "       ['average', '50+'],\n",
       "       ['high', '50+'],\n",
       "       ['low', '50+'],\n",
       "       ['high', '50+'],\n",
       "       ['average', '50+'],\n",
       "       ['average', '100+'],\n",
       "       ['average', '100+'],\n",
       "       ['average', '100+'],\n",
       "       ['low', '100+'],\n",
       "       ['high', '100+'],\n",
       "       ['average', '100+'],\n",
       "       ['average', '100+'],\n",
       "       ['average', '100+'],\n",
       "       ['average', '100+'],\n",
       "       ['high', '300+'],\n",
       "       ['high', '100+'],\n",
       "       ['average', '100+'],\n",
       "       ['high', '100+'],\n",
       "       ['average', '100+'],\n",
       "       ['high', '100+'],\n",
       "       ['average', '100+'],\n",
       "       ['high', '100+'],\n",
       "       ['average', '100+'],\n",
       "       ['high', '100+'],\n",
       "       ['average', '150+'],\n",
       "       ['average', '150+'],\n",
       "       ['high', '150+'],\n",
       "       ['high', '150+'],\n",
       "       ['average', '150+'],\n",
       "       ['high', '150+'],\n",
       "       ['low', '150+'],\n",
       "       ['high', '150+'],\n",
       "       ['average', '150+'],\n",
       "       ['high', '150+'],\n",
       "       ['average', '150+'],\n",
       "       ['average', '150+'],\n",
       "       ['high', '200+'],\n",
       "       ['high', '200+'],\n",
       "       ['average', '200+'],\n",
       "       ['low', '200+'],\n",
       "       ['high', '200+'],\n",
       "       ['low', '200+'],\n",
       "       ['low', '200+'],\n",
       "       ['high', '200+'],\n",
       "       ['high', '200+'],\n",
       "       ['average', '200+'],\n",
       "       ['low', '200+'],\n",
       "       ['high', '200+'],\n",
       "       ['low', '250+'],\n",
       "       ['average', '250+'],\n",
       "       ['high', '250+'],\n",
       "       ['high', '250+'],\n",
       "       ['high', '250+'],\n",
       "       ['average', '250+'],\n",
       "       ['average', '250+'],\n",
       "       ['average', '250+'],\n",
       "       ['average', '250+'],\n",
       "       ['average', '250+'],\n",
       "       ['low', '250+'],\n",
       "       ['low', '250+'],\n",
       "       ['high', '250+'],\n",
       "       ['high', '250+'],\n",
       "       ['low', '300+'],\n",
       "       ['low', '300+'],\n",
       "       ['low', '300+'],\n",
       "       ['average', '300+'],\n",
       "       ['low', '300+'],\n",
       "       ['high', '300+'],\n",
       "       ['average', '300+'],\n",
       "       ['average', '300+'],\n",
       "       ['low', '300+'],\n",
       "       ['low', '300+'],\n",
       "       ['high', '300+'],\n",
       "       ['average', '300+'],\n",
       "       ['low', '300+'],\n",
       "       ['average', '300+'],\n",
       "       ['average', '300+'],\n",
       "       ['low', '300+'],\n",
       "       ['average', '300+'],\n",
       "       ['low', '300+'],\n",
       "       ['high', '300+'],\n",
       "       ['low', '300+'],\n",
       "       ['high', '300+'],\n",
       "       ['high', '300+'],\n",
       "       ['high', '300+'],\n",
       "       ['high', '300+'],\n",
       "       ['high', '350+'],\n",
       "       ['high', '350+'],\n",
       "       ['average', '350+'],\n",
       "       ['low', '350+'],\n",
       "       ['average', '350+'],\n",
       "       ['low', '350+'],\n",
       "       ['average', '350+'],\n",
       "       ['low', '350+'],\n",
       "       ['low', '350+'],\n",
       "       ['low', '350+'],\n",
       "       ['low', '350+'],\n",
       "       ['high', '350+'],\n",
       "       ['average', '350+'],\n",
       "       ['low', '350+'],\n",
       "       ['low', '350+'],\n",
       "       ['average', '350+'],\n",
       "       ['high', '350+'],\n",
       "       ['average', '400+'],\n",
       "       ['average', '400+'],\n",
       "       ['average', '400+'],\n",
       "       ['average', '400+'],\n",
       "       ['average', '400+'],\n",
       "       ['average', '400+'],\n",
       "       ['average', '400+'],\n",
       "       ['average', '400+'],\n",
       "       ['high', '400+'],\n",
       "       ['average', '400+'],\n",
       "       ['high', '400+'],\n",
       "       ['average', '400+'],\n",
       "       ['low', '400+'],\n",
       "       ['high', '400+'],\n",
       "       ['low', '400+'],\n",
       "       ['average', '400+'],\n",
       "       ['average', '400+'],\n",
       "       ['average', '400+'],\n",
       "       ['high', '400+'],\n",
       "       ['low', '400+'],\n",
       "       ['average', '450+'],\n",
       "       ['high', '450+'],\n",
       "       ['high', '450+'],\n",
       "       ['low', '450+'],\n",
       "       ['average', '450+'],\n",
       "       ['low', '450+'],\n",
       "       ['average', '300+'],\n",
       "       ['low', '450+'],\n",
       "       ['low', '450+'],\n",
       "       ['average', '450+'],\n",
       "       ['high', '450+'],\n",
       "       ['low', '450+'],\n",
       "       ['average', '300+'],\n",
       "       ['high', '500+'],\n",
       "       ['low', '500+'],\n",
       "       ['low', '500+'],\n",
       "       ['low', '500+'],\n",
       "       ['average', '500+'],\n",
       "       ['low', '500+'],\n",
       "       ['average', '500+'],\n",
       "       ['high', '500+'],\n",
       "       ['high', '500+'],\n",
       "       ['low', '500+'],\n",
       "       ['average', '500+'],\n",
       "       ['low', '500+'],\n",
       "       ['low', '500+'],\n",
       "       ['low', '500+'],\n",
       "       ['average', '500+'],\n",
       "       ['average', '500+'],\n",
       "       ['high', '550+'],\n",
       "       ['low', '550+'],\n",
       "       ['average', '550+'],\n",
       "       ['average', '550+'],\n",
       "       ['low', '550+'],\n",
       "       ['high', '550+'],\n",
       "       ['high', '550+'],\n",
       "       ['average', '550+'],\n",
       "       ['average', '550+'],\n",
       "       ['low', '550+'],\n",
       "       ['high', '550+'],\n",
       "       ['low', '550+'],\n",
       "       ['average', '550+'],\n",
       "       ['average', '550+'],\n",
       "       ['high', '550+'],\n",
       "       ['average', '550+'],\n",
       "       ['high', '550+'],\n",
       "       ['high', '550+'],\n",
       "       ['average', '550+'],\n",
       "       ['low', '550+'],\n",
       "       ['low', '550+'],\n",
       "       ['average', '600+'],\n",
       "       ['high', '600+'],\n",
       "       ['low', '600+'],\n",
       "       ['low', '600+'],\n",
       "       ['average', '600+'],\n",
       "       ['low', '600+'],\n",
       "       ['low', '600+'],\n",
       "       ['low', '600+'],\n",
       "       ['high', '600+'],\n",
       "       ['average', '600+'],\n",
       "       ['average', '600+'],\n",
       "       ['low', '650+'],\n",
       "       ['high', '650+'],\n",
       "       ['high', '650+'],\n",
       "       ['high', '650+'],\n",
       "       ['low', '650+'],\n",
       "       ['low', '650+'],\n",
       "       ['low', '650+'],\n",
       "       ['average', '650+'],\n",
       "       ['low', '650+'],\n",
       "       ['average', '650+'],\n",
       "       ['average', '650+'],\n",
       "       ['average', '650+'],\n",
       "       ['high', '650+'],\n",
       "       ['low', '650+'],\n",
       "       ['high', '700+'],\n",
       "       ['average', '700+'],\n",
       "       ['low', '700+'],\n",
       "       ['high', '700+'],\n",
       "       ['average', '700+'],\n",
       "       ['average', '700+'],\n",
       "       ['low', '700+'],\n",
       "       ['average', '700+'],\n",
       "       ['low', '700+'],\n",
       "       ['high', '700+'],\n",
       "       ['average', '700+'],\n",
       "       ['average', '700+'],\n",
       "       ['average', '700+'],\n",
       "       ['low', '700+'],\n",
       "       ['high', '700+'],\n",
       "       ['average', '700+'],\n",
       "       ['low', '700+'],\n",
       "       ['low', '700+'],\n",
       "       ['low', '700+'],\n",
       "       ['high', '700+'],\n",
       "       ['average', '700+'],\n",
       "       ['low', '700+'],\n",
       "       ['high', '750+'],\n",
       "       ['low', '750+'],\n",
       "       ['low', '750+'],\n",
       "       ['average', '750+'],\n",
       "       ['average', '750+'],\n",
       "       ['average', '750+'],\n",
       "       ['high', '750+'],\n",
       "       ['high', '750+'],\n",
       "       ['low', '750+'],\n",
       "       ['average', '750+'],\n",
       "       ['average', '750+'],\n",
       "       ['high', '750+'],\n",
       "       ['high', '750+'],\n",
       "       ['high', '750+'],\n",
       "       ['average', '750+'],\n",
       "       ['high', '750+'],\n",
       "       ['low', '750+'],\n",
       "       ['average', '750+'],\n",
       "       ['average', '800+'],\n",
       "       ['average', '800+'],\n",
       "       ['high', '800+'],\n",
       "       ['low', '800+'],\n",
       "       ['low', '800+'],\n",
       "       ['high', '800+'],\n",
       "       ['high', '800+'],\n",
       "       ['high', '800+'],\n",
       "       ['high', '800+'],\n",
       "       ['average', '800+'],\n",
       "       ['high', '300+'],\n",
       "       ['low', '800+'],\n",
       "       ['average', '850+'],\n",
       "       ['low', '850+'],\n",
       "       ['low', '850+'],\n",
       "       ['low', '850+'],\n",
       "       ['low', '850+'],\n",
       "       ['average', '850+'],\n",
       "       ['average', '850+'],\n",
       "       ['average', '850+'],\n",
       "       ['average', '850+'],\n",
       "       ['low', '850+'],\n",
       "       ['low', '850+'],\n",
       "       ['high', '850+'],\n",
       "       ['average', '850+'],\n",
       "       ['high', '850+'],\n",
       "       ['high', '850+'],\n",
       "       ['low', '850+'],\n",
       "       ['average', '850+'],\n",
       "       ['high', '850+'],\n",
       "       ['average', '850+'],\n",
       "       ['average', '850+'],\n",
       "       ['average', '900+'],\n",
       "       ['high', '900+'],\n",
       "       ['low', '900+'],\n",
       "       ['low', '900+'],\n",
       "       ['average', '900+'],\n",
       "       ['low', '900+'],\n",
       "       ['average', '900+'],\n",
       "       ['low', '900+'],\n",
       "       ['low', '900+'],\n",
       "       ['average', '900+'],\n",
       "       ['average', '950+'],\n",
       "       ['average', '950+'],\n",
       "       ['high', '950+'],\n",
       "       ['average', '950+'],\n",
       "       ['high', '950+'],\n",
       "       ['high', '950+'],\n",
       "       ['high', '950+'],\n",
       "       ['high', '950+'],\n",
       "       ['high', '950+'],\n",
       "       ['average', '950+']], dtype=object)"
      ]
     },
     "execution_count": 170,
     "metadata": {},
     "output_type": "execute_result"
    }
   ],
   "source": [
    "df_test_cat"
   ]
  },
  {
   "cell_type": "code",
   "execution_count": 171,
   "id": "binary-relative",
   "metadata": {},
   "outputs": [],
   "source": [
    "df_test_categorical2 = pd.DataFrame(df_test_cat, columns=df_test_categorical.columns, index=df_test_categorical.index)"
   ]
  },
  {
   "cell_type": "code",
   "execution_count": 172,
   "id": "modified-seeking",
   "metadata": {},
   "outputs": [
    {
     "data": {
      "text/html": [
       "<div>\n",
       "<style scoped>\n",
       "    .dataframe tbody tr th:only-of-type {\n",
       "        vertical-align: middle;\n",
       "    }\n",
       "\n",
       "    .dataframe tbody tr th {\n",
       "        vertical-align: top;\n",
       "    }\n",
       "\n",
       "    .dataframe thead th {\n",
       "        text-align: right;\n",
       "    }\n",
       "</style>\n",
       "<table border=\"1\" class=\"dataframe\">\n",
       "  <thead>\n",
       "    <tr style=\"text-align: right;\">\n",
       "      <th></th>\n",
       "      <th>altitute</th>\n",
       "      <th>agents</th>\n",
       "    </tr>\n",
       "  </thead>\n",
       "  <tbody>\n",
       "    <tr>\n",
       "      <th>0</th>\n",
       "      <td>average</td>\n",
       "      <td>50+</td>\n",
       "    </tr>\n",
       "    <tr>\n",
       "      <th>1</th>\n",
       "      <td>high</td>\n",
       "      <td>950+</td>\n",
       "    </tr>\n",
       "    <tr>\n",
       "      <th>2</th>\n",
       "      <td>low</td>\n",
       "      <td>50+</td>\n",
       "    </tr>\n",
       "    <tr>\n",
       "      <th>3</th>\n",
       "      <td>high</td>\n",
       "      <td>50+</td>\n",
       "    </tr>\n",
       "    <tr>\n",
       "      <th>4</th>\n",
       "      <td>high</td>\n",
       "      <td>50+</td>\n",
       "    </tr>\n",
       "  </tbody>\n",
       "</table>\n",
       "</div>"
      ],
      "text/plain": [
       "  altitute agents\n",
       "0  average    50+\n",
       "1     high   950+\n",
       "2      low    50+\n",
       "3     high    50+\n",
       "4     high    50+"
      ]
     },
     "execution_count": 172,
     "metadata": {},
     "output_type": "execute_result"
    }
   ],
   "source": [
    "df_test_categorical2.head()"
   ]
  },
  {
   "cell_type": "code",
   "execution_count": 173,
   "id": "absolute-republican",
   "metadata": {},
   "outputs": [],
   "source": [
    "from sklearn.preprocessing import OneHotEncoder"
   ]
  },
  {
   "cell_type": "code",
   "execution_count": 174,
   "id": "multiple-personality",
   "metadata": {},
   "outputs": [],
   "source": [
    "categorical_encoder = OneHotEncoder()"
   ]
  },
  {
   "cell_type": "code",
   "execution_count": 175,
   "id": "secret-stylus",
   "metadata": {},
   "outputs": [],
   "source": [
    "df_categorical_1hot = categorical_encoder.fit_transform(df_test_categorical2)"
   ]
  },
  {
   "cell_type": "code",
   "execution_count": 176,
   "id": "comprehensive-importance",
   "metadata": {},
   "outputs": [
    {
     "data": {
      "text/plain": [
       "<296x22 sparse matrix of type '<class 'numpy.float64'>'\n",
       "\twith 592 stored elements in Compressed Sparse Row format>"
      ]
     },
     "execution_count": 176,
     "metadata": {},
     "output_type": "execute_result"
    }
   ],
   "source": [
    "df_categorical_1hot"
   ]
  },
  {
   "cell_type": "code",
   "execution_count": 177,
   "id": "under-cathedral",
   "metadata": {},
   "outputs": [
    {
     "data": {
      "text/plain": [
       "array([[1., 0., 0., ..., 0., 0., 0.],\n",
       "       [0., 1., 0., ..., 0., 0., 1.],\n",
       "       [0., 0., 1., ..., 0., 0., 0.],\n",
       "       ...,\n",
       "       [0., 1., 0., ..., 0., 0., 1.],\n",
       "       [0., 1., 0., ..., 0., 0., 1.],\n",
       "       [1., 0., 0., ..., 0., 0., 1.]])"
      ]
     },
     "execution_count": 177,
     "metadata": {},
     "output_type": "execute_result"
    }
   ],
   "source": [
    "df_categorical_1hot.toarray()"
   ]
  },
  {
   "cell_type": "code",
   "execution_count": 178,
   "id": "false-touch",
   "metadata": {},
   "outputs": [
    {
     "data": {
      "text/plain": [
       "[array(['average', 'high', 'low'], dtype=object),\n",
       " array(['100+', '150+', '200+', '250+', '300+', '350+', '400+', '450+',\n",
       "        '50+', '500+', '550+', '600+', '650+', '700+', '750+', '800+',\n",
       "        '850+', '900+', '950+'], dtype=object)]"
      ]
     },
     "execution_count": 178,
     "metadata": {},
     "output_type": "execute_result"
    }
   ],
   "source": [
    "categorical_encoder.categories_"
   ]
  },
  {
   "cell_type": "code",
   "execution_count": null,
   "id": "minute-texas",
   "metadata": {},
   "outputs": [],
   "source": []
  },
  {
   "cell_type": "markdown",
   "id": "thousand-version",
   "metadata": {},
   "source": [
    "\n"
   ]
  },
  {
   "cell_type": "code",
   "execution_count": 179,
   "id": "interpreted-outside",
   "metadata": {},
   "outputs": [],
   "source": [
    "import numpy as np\n",
    "X_test_preprocessed = np.concatenate((X_test,df_categorical_1hot.toarray()), axis=1)"
   ]
  },
  {
   "cell_type": "code",
   "execution_count": 180,
   "id": "established-operation",
   "metadata": {},
   "outputs": [
    {
     "name": "stdout",
     "output_type": "stream",
     "text": [
      "[[0.7 0.3 4.5 ... 0.  0.  0. ]\n",
      " [0.5 0.2 1.9 ... 0.  0.  1. ]\n",
      " [0.6 0.3 2.1 ... 0.  0.  0. ]\n",
      " ...\n",
      " [0.8 0.3 1.1 ... 0.  0.  1. ]\n",
      " [0.9 0.3 4.3 ... 0.  0.  1. ]\n",
      " [0.5 0.2 2.5 ... 0.  0.  1. ]]\n",
      "(296, 45)\n"
     ]
    }
   ],
   "source": [
    "print(X_test_preprocessed)\n",
    "print(X_test_preprocessed.shape)"
   ]
  },
  {
   "cell_type": "code",
   "execution_count": null,
   "id": "engaging-canadian",
   "metadata": {},
   "outputs": [],
   "source": []
  },
  {
   "cell_type": "code",
   "execution_count": 181,
   "id": "spatial-spiritual",
   "metadata": {},
   "outputs": [],
   "source": [
    "predictions_test = lin_reg.predict(X_test_preprocessed)"
   ]
  },
  {
   "cell_type": "code",
   "execution_count": 183,
   "id": "metric-anime",
   "metadata": {},
   "outputs": [
    {
     "data": {
      "text/plain": [
       "(296,)"
      ]
     },
     "execution_count": 183,
     "metadata": {},
     "output_type": "execute_result"
    }
   ],
   "source": [
    "predictions_test.shape\n"
   ]
  },
  {
   "cell_type": "code",
   "execution_count": 184,
   "id": "affected-beach",
   "metadata": {},
   "outputs": [
    {
     "data": {
      "text/plain": [
       "numpy.ndarray"
      ]
     },
     "execution_count": 184,
     "metadata": {},
     "output_type": "execute_result"
    }
   ],
   "source": [
    "type(predictions_test)"
   ]
  },
  {
   "cell_type": "code",
   "execution_count": 185,
   "id": "accredited-cleaner",
   "metadata": {},
   "outputs": [],
   "source": [
    "df_results=pd.DataFrame(predictions_test, columns = ['sd_trans'])"
   ]
  },
  {
   "cell_type": "code",
   "execution_count": 186,
   "id": "activated-tenant",
   "metadata": {},
   "outputs": [
    {
     "data": {
      "text/html": [
       "<div>\n",
       "<style scoped>\n",
       "    .dataframe tbody tr th:only-of-type {\n",
       "        vertical-align: middle;\n",
       "    }\n",
       "\n",
       "    .dataframe tbody tr th {\n",
       "        vertical-align: top;\n",
       "    }\n",
       "\n",
       "    .dataframe thead th {\n",
       "        text-align: right;\n",
       "    }\n",
       "</style>\n",
       "<table border=\"1\" class=\"dataframe\">\n",
       "  <thead>\n",
       "    <tr style=\"text-align: right;\">\n",
       "      <th></th>\n",
       "      <th>sd_trans</th>\n",
       "    </tr>\n",
       "  </thead>\n",
       "  <tbody>\n",
       "    <tr>\n",
       "      <th>0</th>\n",
       "      <td>24.330315</td>\n",
       "    </tr>\n",
       "    <tr>\n",
       "      <th>1</th>\n",
       "      <td>22.854640</td>\n",
       "    </tr>\n",
       "    <tr>\n",
       "      <th>2</th>\n",
       "      <td>28.949291</td>\n",
       "    </tr>\n",
       "    <tr>\n",
       "      <th>3</th>\n",
       "      <td>22.568466</td>\n",
       "    </tr>\n",
       "    <tr>\n",
       "      <th>4</th>\n",
       "      <td>20.249440</td>\n",
       "    </tr>\n",
       "  </tbody>\n",
       "</table>\n",
       "</div>"
      ],
      "text/plain": [
       "    sd_trans\n",
       "0  24.330315\n",
       "1  22.854640\n",
       "2  28.949291\n",
       "3  22.568466\n",
       "4  20.249440"
      ]
     },
     "execution_count": 186,
     "metadata": {},
     "output_type": "execute_result"
    }
   ],
   "source": [
    "df_results.head()"
   ]
  },
  {
   "cell_type": "code",
   "execution_count": 187,
   "id": "postal-confirmation",
   "metadata": {},
   "outputs": [],
   "source": [
    "sample_submission = pd.read_csv('submission.csv')"
   ]
  },
  {
   "cell_type": "code",
   "execution_count": 188,
   "id": "arbitrary-london",
   "metadata": {},
   "outputs": [
    {
     "data": {
      "text/html": [
       "<div>\n",
       "<style scoped>\n",
       "    .dataframe tbody tr th:only-of-type {\n",
       "        vertical-align: middle;\n",
       "    }\n",
       "\n",
       "    .dataframe tbody tr th {\n",
       "        vertical-align: top;\n",
       "    }\n",
       "\n",
       "    .dataframe thead th {\n",
       "        text-align: right;\n",
       "    }\n",
       "</style>\n",
       "<table border=\"1\" class=\"dataframe\">\n",
       "  <thead>\n",
       "    <tr style=\"text-align: right;\">\n",
       "      <th></th>\n",
       "      <th>id</th>\n",
       "      <th>sd_trans</th>\n",
       "    </tr>\n",
       "  </thead>\n",
       "  <tbody>\n",
       "    <tr>\n",
       "      <th>0</th>\n",
       "      <td>1</td>\n",
       "      <td>0</td>\n",
       "    </tr>\n",
       "    <tr>\n",
       "      <th>1</th>\n",
       "      <td>2</td>\n",
       "      <td>0</td>\n",
       "    </tr>\n",
       "    <tr>\n",
       "      <th>2</th>\n",
       "      <td>3</td>\n",
       "      <td>0</td>\n",
       "    </tr>\n",
       "    <tr>\n",
       "      <th>3</th>\n",
       "      <td>4</td>\n",
       "      <td>0</td>\n",
       "    </tr>\n",
       "    <tr>\n",
       "      <th>4</th>\n",
       "      <td>5</td>\n",
       "      <td>0</td>\n",
       "    </tr>\n",
       "  </tbody>\n",
       "</table>\n",
       "</div>"
      ],
      "text/plain": [
       "   id  sd_trans\n",
       "0   1         0\n",
       "1   2         0\n",
       "2   3         0\n",
       "3   4         0\n",
       "4   5         0"
      ]
     },
     "execution_count": 188,
     "metadata": {},
     "output_type": "execute_result"
    }
   ],
   "source": [
    "sample_submission.head()"
   ]
  },
  {
   "cell_type": "code",
   "execution_count": 190,
   "id": "forbidden-instrument",
   "metadata": {},
   "outputs": [],
   "source": [
    "sample_submission['sd_trans'] = df_results['sd_trans']"
   ]
  },
  {
   "cell_type": "code",
   "execution_count": 191,
   "id": "beginning-gathering",
   "metadata": {},
   "outputs": [
    {
     "data": {
      "text/html": [
       "<div>\n",
       "<style scoped>\n",
       "    .dataframe tbody tr th:only-of-type {\n",
       "        vertical-align: middle;\n",
       "    }\n",
       "\n",
       "    .dataframe tbody tr th {\n",
       "        vertical-align: top;\n",
       "    }\n",
       "\n",
       "    .dataframe thead th {\n",
       "        text-align: right;\n",
       "    }\n",
       "</style>\n",
       "<table border=\"1\" class=\"dataframe\">\n",
       "  <thead>\n",
       "    <tr style=\"text-align: right;\">\n",
       "      <th></th>\n",
       "      <th>id</th>\n",
       "      <th>sd_trans</th>\n",
       "    </tr>\n",
       "  </thead>\n",
       "  <tbody>\n",
       "    <tr>\n",
       "      <th>0</th>\n",
       "      <td>1</td>\n",
       "      <td>24.330315</td>\n",
       "    </tr>\n",
       "    <tr>\n",
       "      <th>1</th>\n",
       "      <td>2</td>\n",
       "      <td>22.854640</td>\n",
       "    </tr>\n",
       "    <tr>\n",
       "      <th>2</th>\n",
       "      <td>3</td>\n",
       "      <td>28.949291</td>\n",
       "    </tr>\n",
       "    <tr>\n",
       "      <th>3</th>\n",
       "      <td>4</td>\n",
       "      <td>22.568466</td>\n",
       "    </tr>\n",
       "    <tr>\n",
       "      <th>4</th>\n",
       "      <td>5</td>\n",
       "      <td>20.249440</td>\n",
       "    </tr>\n",
       "  </tbody>\n",
       "</table>\n",
       "</div>"
      ],
      "text/plain": [
       "   id   sd_trans\n",
       "0   1  24.330315\n",
       "1   2  22.854640\n",
       "2   3  28.949291\n",
       "3   4  22.568466\n",
       "4   5  20.249440"
      ]
     },
     "execution_count": 191,
     "metadata": {},
     "output_type": "execute_result"
    }
   ],
   "source": [
    "sample_submission.head()"
   ]
  },
  {
   "cell_type": "code",
   "execution_count": null,
   "id": "accredited-queensland",
   "metadata": {},
   "outputs": [],
   "source": []
  }
 ],
 "metadata": {
  "kernelspec": {
   "display_name": "Python 3",
   "language": "python",
   "name": "python3"
  },
  "language_info": {
   "codemirror_mode": {
    "name": "ipython",
    "version": 3
   },
   "file_extension": ".py",
   "mimetype": "text/x-python",
   "name": "python",
   "nbconvert_exporter": "python",
   "pygments_lexer": "ipython3",
   "version": "3.7.0"
  }
 },
 "nbformat": 4,
 "nbformat_minor": 5
}
